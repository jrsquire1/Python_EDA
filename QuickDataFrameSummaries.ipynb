{
 "cells": [
  {
   "cell_type": "markdown",
   "id": "a43ea736",
   "metadata": {},
   "source": [
    "## Quick Dataframe Summaries in Pandas\n",
    "A collection of methods and attributes that allow you to quickly look at dataframes and their properties"
   ]
  },
  {
   "cell_type": "markdown",
   "id": "dd1cd087",
   "metadata": {},
   "source": [
    "##### Avoiding Truncation of outputs from the following functions in larger datasets"
   ]
  },
  {
   "cell_type": "code",
   "execution_count": null,
   "id": "79b03ce5",
   "metadata": {},
   "outputs": [],
   "source": [
    "pd.set_option('display.max_columns', None)\n",
    "pd.set_option('display.max_rows', None)"
   ]
  },
  {
   "cell_type": "markdown",
   "id": "e4182c46",
   "metadata": {},
   "source": [
    "##### Quick Dataframe Summary Methods"
   ]
  },
  {
   "cell_type": "code",
   "execution_count": null,
   "id": "fd0da5c0",
   "metadata": {},
   "outputs": [],
   "source": [
    "print(df.shape)\n",
    "\n",
    "\"\"\"\n",
    ".shape attribute: \n",
    "This gives you a tuple representing the dimensions of the DataFrame, showing the number of rows and columns.\n",
    "\"\"\""
   ]
  },
  {
   "cell_type": "code",
   "execution_count": null,
   "id": "4b9550a9",
   "metadata": {},
   "outputs": [],
   "source": [
    "df.info()\n",
    "\n",
    "\"\"\"\n",
    ".info() method:\n",
    "This provides a concise summary of the DataFrame, including the number of non-null entries in each column, \n",
    "the datatype of each column, and memory usage. It's very useful for getting a quick overview of the data, \n",
    "especially for identifying missing values and data types.\n",
    "\"\"\""
   ]
  },
  {
   "cell_type": "code",
   "execution_count": null,
   "id": "dc294c9e",
   "metadata": {},
   "outputs": [],
   "source": [
    "df.describe()\n",
    "\n",
    "\"\"\"\n",
    ".describe() method: \n",
    "This gives you a statistical summary of the numerical columns in the DataFrame, \n",
    "including count, mean, standard deviation, min, max, and quartiles. It's handy for \n",
    "getting a sense of the distribution of your data.\n",
    "\"\"\""
   ]
  },
  {
   "cell_type": "code",
   "execution_count": null,
   "id": "b326bddc",
   "metadata": {},
   "outputs": [],
   "source": [
    "df.head()  # First 5 rows\n",
    "df.tail()  # Last 5 rows\n",
    "\n",
    "\"\"\"\n",
    ".head(n) and .tail(n) methods: \n",
    "These methods show the first n and last n rows of the DataFrame respectively, allowing you to \n",
    "quickly inspect the actual data. If n is not specified, by default, it returns the first/last 5 rows.\n",
    "\"\"\""
   ]
  },
  {
   "cell_type": "code",
   "execution_count": null,
   "id": "673966b7",
   "metadata": {},
   "outputs": [],
   "source": [
    "print(df.dtypes)\n",
    "\n",
    "\"\"\"\n",
    ".dtypes attribute: \n",
    "This gives you the data type of each column in the DataFrame.\n",
    "\"\"\""
   ]
  },
  {
   "cell_type": "code",
   "execution_count": null,
   "id": "7906049e",
   "metadata": {},
   "outputs": [],
   "source": [
    "df.nunique()\n",
    "\n",
    "\"\"\"\n",
    ".nunique() method: \n",
    "This returns the number of unique values in each column. \n",
    "It's useful for understanding the diversity of data in each feature.\n",
    "\"\"\""
   ]
  },
  {
   "cell_type": "code",
   "execution_count": null,
   "id": "a1682c95",
   "metadata": {},
   "outputs": [],
   "source": [
    "df.isnull().sum()\n",
    "\n",
    "\"\"\"\n",
    ".isnull().sum(): \n",
    "This chain of methods helps identify how many missing (NaN) values are in each column, \n",
    "which is crucial for cleaning and preprocessing data.\n",
    "\"\"\""
   ]
  },
  {
   "cell_type": "code",
   "execution_count": null,
   "id": "3cdf06e9",
   "metadata": {},
   "outputs": [],
   "source": [
    "df.duplicated().sum()\n",
    "\n",
    "\"\"\"\n",
    "Identifies if there are duplicated values within a dataset.\n",
    "\"\"\""
   ]
  },
  {
   "cell_type": "code",
   "execution_count": null,
   "id": "bc80987f",
   "metadata": {},
   "outputs": [],
   "source": [
    "df.sample()\n",
    "\n",
    "\"\"\"\n",
    "Useful for randomly sampling rows from the DataFrame. \n",
    "This can be particularly helpful when you have a large dataset and want a quick snapshot that's representative of the whole.\n",
    "\"\"\""
   ]
  }
 ],
 "metadata": {
  "kernelspec": {
   "display_name": "Python 3 (ipykernel)",
   "language": "python",
   "name": "python3"
  },
  "language_info": {
   "codemirror_mode": {
    "name": "ipython",
    "version": 3
   },
   "file_extension": ".py",
   "mimetype": "text/x-python",
   "name": "python",
   "nbconvert_exporter": "python",
   "pygments_lexer": "ipython3",
   "version": "3.9.13"
  }
 },
 "nbformat": 4,
 "nbformat_minor": 5
}
